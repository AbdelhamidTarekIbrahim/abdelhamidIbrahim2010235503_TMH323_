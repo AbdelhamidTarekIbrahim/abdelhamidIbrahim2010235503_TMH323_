{
 "cells": [
  {
   "cell_type": "markdown",
   "id": "b5abb8ef",
   "metadata": {},
   "source": [
    "# ÖDEV \n",
    "* this dataset is talking about the diseases and their symptoms and according to that it will predict if the disease is positive or negative.\n",
    "* Bu veri seti hastalıklardan ve semptomlarından bahsediyor ve buna göre hastalığın pozitif mi yoksa negatif mi olduğunu tahmin edecek."
   ]
  },
  {
   "cell_type": "markdown",
   "id": "46310182",
   "metadata": {},
   "source": [
    "### Genel bakış"
   ]
  },
  {
   "cell_type": "code",
   "execution_count": 1,
   "id": "58b6dcc5",
   "metadata": {},
   "outputs": [],
   "source": [
    "import pandas as pd\n",
    "import numpy as np\n",
    "import matplotlib as plt"
   ]
  },
  {
   "cell_type": "code",
   "execution_count": 2,
   "id": "d4a3e603",
   "metadata": {},
   "outputs": [
    {
     "name": "stdout",
     "output_type": "stream",
     "text": [
      "       Disease Fever Cough Fatigue Difficulty Breathing  Age  Gender  \\\n",
      "0    Influenza   Yes    No     Yes                  Yes   19  Female   \n",
      "1  Common Cold    No   Yes     Yes                   No   25  Female   \n",
      "2       Eczema    No   Yes     Yes                   No   25  Female   \n",
      "3       Asthma   Yes   Yes      No                  Yes   25    Male   \n",
      "4       Asthma   Yes   Yes      No                  Yes   25    Male   \n",
      "\n",
      "  Blood Pressure Cholesterol Level Outcome Variable  \n",
      "0            Low            Normal         Positive  \n",
      "1         Normal            Normal         Negative  \n",
      "2         Normal            Normal         Negative  \n",
      "3         Normal            Normal         Positive  \n",
      "4         Normal            Normal         Positive  \n"
     ]
    }
   ],
   "source": [
    "df=pd.read_csv(\"Disease_symptom.csv\",sep=',')\n",
    "print(df.head())"
   ]
  },
  {
   "cell_type": "code",
   "execution_count": 3,
   "id": "7e369b06",
   "metadata": {},
   "outputs": [
    {
     "name": "stdout",
     "output_type": "stream",
     "text": [
      "         Disease Fever Cough Fatigue Difficulty Breathing  Age  Gender  \\\n",
      "0      Influenza   Yes    No     Yes                  Yes   19  Female   \n",
      "1    Common Cold    No   Yes     Yes                   No   25  Female   \n",
      "2         Eczema    No   Yes     Yes                   No   25  Female   \n",
      "3         Asthma   Yes   Yes      No                  Yes   25    Male   \n",
      "4         Asthma   Yes   Yes      No                  Yes   25    Male   \n",
      "..           ...   ...   ...     ...                  ...  ...     ...   \n",
      "344       Stroke   Yes    No     Yes                   No   80  Female   \n",
      "345       Stroke   Yes    No     Yes                   No   85    Male   \n",
      "346       Stroke   Yes    No     Yes                   No   85    Male   \n",
      "347       Stroke   Yes    No     Yes                   No   90  Female   \n",
      "348       Stroke   Yes    No     Yes                   No   90  Female   \n",
      "\n",
      "    Blood Pressure Cholesterol Level Outcome Variable  \n",
      "0              Low            Normal         Positive  \n",
      "1           Normal            Normal         Negative  \n",
      "2           Normal            Normal         Negative  \n",
      "3           Normal            Normal         Positive  \n",
      "4           Normal            Normal         Positive  \n",
      "..             ...               ...              ...  \n",
      "344           High              High         Positive  \n",
      "345           High              High         Positive  \n",
      "346           High              High         Positive  \n",
      "347           High              High         Positive  \n",
      "348           High              High         Positive  \n",
      "\n",
      "[349 rows x 10 columns]\n"
     ]
    }
   ],
   "source": [
    "print(df)"
   ]
  },
  {
   "cell_type": "code",
   "execution_count": 4,
   "id": "ed5009df",
   "metadata": {},
   "outputs": [
    {
     "name": "stdout",
     "output_type": "stream",
     "text": [
      "<class 'pandas.core.frame.DataFrame'>\n",
      "RangeIndex: 349 entries, 0 to 348\n",
      "Data columns (total 10 columns):\n",
      " #   Column                Non-Null Count  Dtype \n",
      "---  ------                --------------  ----- \n",
      " 0   Disease               349 non-null    object\n",
      " 1   Fever                 349 non-null    object\n",
      " 2   Cough                 349 non-null    object\n",
      " 3   Fatigue               349 non-null    object\n",
      " 4   Difficulty Breathing  349 non-null    object\n",
      " 5   Age                   349 non-null    int64 \n",
      " 6   Gender                349 non-null    object\n",
      " 7   Blood Pressure        349 non-null    object\n",
      " 8   Cholesterol Level     349 non-null    object\n",
      " 9   Outcome Variable      349 non-null    object\n",
      "dtypes: int64(1), object(9)\n",
      "memory usage: 27.4+ KB\n",
      "None\n"
     ]
    }
   ],
   "source": [
    "print(df.info())"
   ]
  },
  {
   "cell_type": "code",
   "execution_count": 5,
   "id": "0d61b68c",
   "metadata": {},
   "outputs": [
    {
     "name": "stdout",
     "output_type": "stream",
     "text": [
      "(349, 10)\n"
     ]
    }
   ],
   "source": [
    "print(df.shape)"
   ]
  },
  {
   "cell_type": "markdown",
   "id": "7cb3d425",
   "metadata": {},
   "source": [
    "### Veri temizliği ve dönüşümü (data cleaning and transforms)"
   ]
  },
  {
   "cell_type": "markdown",
   "id": "5fdce554",
   "metadata": {},
   "source": [
    "### 1. Kayıp verilerin (missing data) tespiti ve dönüşümü\n",
    "kayıp verilerin yok"
   ]
  },
  {
   "cell_type": "code",
   "execution_count": 6,
   "id": "e95cefc2",
   "metadata": {},
   "outputs": [
    {
     "name": "stdout",
     "output_type": "stream",
     "text": [
      "Disease                 0\n",
      "Fever                   0\n",
      "Cough                   0\n",
      "Fatigue                 0\n",
      "Difficulty Breathing    0\n",
      "Age                     0\n",
      "Gender                  0\n",
      "Blood Pressure          0\n",
      "Cholesterol Level       0\n",
      "Outcome Variable        0\n",
      "dtype: int64\n"
     ]
    }
   ],
   "source": [
    "print(df.isnull().sum())"
   ]
  },
  {
   "cell_type": "code",
   "execution_count": 7,
   "id": "1c173d77",
   "metadata": {},
   "outputs": [
    {
     "name": "stdout",
     "output_type": "stream",
     "text": [
      "0\n"
     ]
    }
   ],
   "source": [
    "print(df.isnull().sum().sum())"
   ]
  },
  {
   "cell_type": "markdown",
   "id": "b5862c81",
   "metadata": {},
   "source": [
    "### 2. Veri tiplerinin dönüşümü"
   ]
  },
  {
   "cell_type": "code",
   "execution_count": 8,
   "id": "7d2fdc8c",
   "metadata": {},
   "outputs": [
    {
     "name": "stdout",
     "output_type": "stream",
     "text": [
      "Disease                 object\n",
      "Fever                   object\n",
      "Cough                   object\n",
      "Fatigue                 object\n",
      "Difficulty Breathing    object\n",
      "Age                      int64\n",
      "Gender                  object\n",
      "Blood Pressure          object\n",
      "Cholesterol Level       object\n",
      "Outcome Variable        object\n",
      "dtype: object\n"
     ]
    }
   ],
   "source": [
    "print(df.dtypes)"
   ]
  },
  {
   "cell_type": "code",
   "execution_count": 9,
   "id": "c2f0979e",
   "metadata": {},
   "outputs": [
    {
     "name": "stdout",
     "output_type": "stream",
     "text": [
      "         Disease Fever Cough Fatigue Difficulty Breathing  Age  Gender  \\\n",
      "0      Influenza   Yes    No     Yes                  Yes   19  Female   \n",
      "1    Common Cold    No   Yes     Yes                   No   25  Female   \n",
      "2         Eczema    No   Yes     Yes                   No   25  Female   \n",
      "3         Asthma   Yes   Yes      No                  Yes   25    Male   \n",
      "4         Asthma   Yes   Yes      No                  Yes   25    Male   \n",
      "..           ...   ...   ...     ...                  ...  ...     ...   \n",
      "344       Stroke   Yes    No     Yes                   No   80  Female   \n",
      "345       Stroke   Yes    No     Yes                   No   85    Male   \n",
      "346       Stroke   Yes    No     Yes                   No   85    Male   \n",
      "347       Stroke   Yes    No     Yes                   No   90  Female   \n",
      "348       Stroke   Yes    No     Yes                   No   90  Female   \n",
      "\n",
      "     Blood Pressure  Cholesterol Level  Outcome Variable  \n",
      "0                 1                  2                 1  \n",
      "1                 2                  2                 0  \n",
      "2                 2                  2                 0  \n",
      "3                 2                  2                 1  \n",
      "4                 2                  2                 1  \n",
      "..              ...                ...               ...  \n",
      "344               3                  3                 1  \n",
      "345               3                  3                 1  \n",
      "346               3                  3                 1  \n",
      "347               3                  3                 1  \n",
      "348               3                  3                 1  \n",
      "\n",
      "[349 rows x 10 columns]\n"
     ]
    }
   ],
   "source": [
    "dicc = { 'Low':1, 'Normal':2, 'High':3, 'Positive':1, 'Negative':0}\n",
    "def replace(x, dicc= dicc):\n",
    "    if x in dicc:\n",
    "        x = dicc[x]\n",
    "    return x\n",
    "df = df.applymap(replace)\n",
    "print(df)"
   ]
  },
  {
   "cell_type": "code",
   "execution_count": 10,
   "id": "eae813a9",
   "metadata": {},
   "outputs": [
    {
     "name": "stdout",
     "output_type": "stream",
     "text": [
      "Disease                 object\n",
      "Fever                   object\n",
      "Cough                   object\n",
      "Fatigue                 object\n",
      "Difficulty Breathing    object\n",
      "Age                      int64\n",
      "Gender                  object\n",
      "Blood Pressure           int64\n",
      "Cholesterol Level        int64\n",
      "Outcome Variable         int64\n",
      "dtype: object\n"
     ]
    }
   ],
   "source": [
    "print(df.dtypes)"
   ]
  },
  {
   "cell_type": "markdown",
   "id": "1593a05a",
   "metadata": {},
   "source": [
    "### 3. Tekrarlayan verilerin kaldırılması"
   ]
  },
  {
   "cell_type": "code",
   "execution_count": 11,
   "id": "19118eb8",
   "metadata": {},
   "outputs": [
    {
     "name": "stdout",
     "output_type": "stream",
     "text": [
      "                                          Disease Fever Cough Fatigue  \\\n",
      "4                                          Asthma   Yes   Yes      No   \n",
      "7                                       Influenza   Yes   Yes     Yes   \n",
      "9                                 Hyperthyroidism    No   Yes      No   \n",
      "23                                   Dengue Fever   Yes    No     Yes   \n",
      "35                                         Asthma   Yes   Yes      No   \n",
      "40                                     Bronchitis   Yes   Yes     Yes   \n",
      "59                                         Asthma    No   Yes     Yes   \n",
      "69                                      Pneumonia   Yes   Yes     Yes   \n",
      "73                                        Rubella   Yes    No     Yes   \n",
      "76                                         Asthma   Yes   Yes      No   \n",
      "82                                Hyperthyroidism   Yes   Yes     Yes   \n",
      "87                                        Malaria   Yes    No      No   \n",
      "120                                        Rabies   Yes   Yes      No   \n",
      "123                                        Asthma   Yes   Yes      No   \n",
      "126                                        Asthma   Yes    No     Yes   \n",
      "128                                    Chickenpox    No   Yes      No   \n",
      "142                                  Tuberculosis   Yes   Yes     Yes   \n",
      "157                                Hypothyroidism   Yes   Yes     Yes   \n",
      "164                                     Hepatitis   Yes    No     Yes   \n",
      "175                               Turner Syndrome    No    No     Yes   \n",
      "178                                    Zika Virus    No   Yes     Yes   \n",
      "182                                        Asthma   Yes   Yes      No   \n",
      "193                            Multiple Sclerosis   Yes    No      No   \n",
      "201                                       Tetanus    No    No     Yes   \n",
      "204                                Hypothyroidism    No    No     Yes   \n",
      "209                                       Cholera   Yes    No     Yes   \n",
      "228                                   Ebola Virus   Yes   Yes     Yes   \n",
      "234                                  Lyme Disease   Yes    No      No   \n",
      "241                            Multiple Sclerosis    No   Yes     Yes   \n",
      "249                                      HIV/AIDS   Yes    No      No   \n",
      "256                           Parkinson's Disease    No    No     Yes   \n",
      "259                       Coronary Artery Disease    No    No     Yes   \n",
      "267                                  Osteoporosis   Yes    No     Yes   \n",
      "271                                 Typhoid Fever    No   Yes      No   \n",
      "276                       Coronary Artery Disease   Yes   Yes      No   \n",
      "279                                       Measles   Yes   Yes      No   \n",
      "284                                  Osteoporosis    No   Yes      No   \n",
      "290                                   Hepatitis B    No   Yes     Yes   \n",
      "299                           Parkinson's Disease   Yes   Yes      No   \n",
      "308                                        Stroke   Yes    No     Yes   \n",
      "312                           Alzheimer's Disease    No   Yes      No   \n",
      "316  Chronic Obstructive Pulmonary Disease (COPD)   Yes    No     Yes   \n",
      "324                                         Mumps    No    No     Yes   \n",
      "328                           Alzheimer's Disease   Yes    No     Yes   \n",
      "331  Chronic Obstructive Pulmonary Disease (COPD)    No   Yes     Yes   \n",
      "339                                        Stroke    No   Yes      No   \n",
      "344                                        Stroke   Yes    No     Yes   \n",
      "346                                        Stroke   Yes    No     Yes   \n",
      "348                                        Stroke   Yes    No     Yes   \n",
      "\n",
      "    Difficulty Breathing  Age  Gender  Blood Pressure  Cholesterol Level  \\\n",
      "4                    Yes   25    Male               2                  2   \n",
      "7                    Yes   25  Female               2                  2   \n",
      "9                     No   28  Female               2                  2   \n",
      "23                    No   30  Female               2                  2   \n",
      "35                   Yes   30  Female               2                  2   \n",
      "40                   Yes   30    Male               3                  3   \n",
      "59                   Yes   35  Female               3                  2   \n",
      "69                   Yes   35  Female               2                  2   \n",
      "73                    No   35  Female               3                  2   \n",
      "76                   Yes   35    Male               2                  2   \n",
      "82                    No   35    Male               3                  3   \n",
      "87                    No   35    Male               3                  3   \n",
      "120                   No   40  Female               3                  2   \n",
      "123                  Yes   40  Female               2                  2   \n",
      "126                  Yes   40    Male               2                  3   \n",
      "128                   No   40    Male               2                  3   \n",
      "142                  Yes   40    Male               3                  3   \n",
      "157                   No   42  Female               3                  3   \n",
      "164                   No   45  Female               3                  3   \n",
      "175                   No   45    Male               3                  3   \n",
      "178                   No   45  Female               3                  3   \n",
      "182                  Yes   45    Male               2                  2   \n",
      "193                   No   45  Female               3                  3   \n",
      "201                   No   45    Male               2                  3   \n",
      "204                   No   48    Male               2                  3   \n",
      "209                  Yes   50  Female               3                  3   \n",
      "228                  Yes   50    Male               2                  2   \n",
      "234                   No   50    Male               2                  3   \n",
      "241                   No   52    Male               2                  2   \n",
      "249                   No   55  Female               3                  3   \n",
      "256                   No   55  Female               2                  1   \n",
      "259                   No   55  Female               2                  2   \n",
      "267                   No   55  Female               2                  2   \n",
      "271                   No   55    Male               2                  1   \n",
      "276                   No   60    Male               3                  3   \n",
      "279                   No   60  Female               3                  2   \n",
      "284                   No   60    Male               3                  3   \n",
      "290                   No   60    Male               2                  1   \n",
      "299                   No   60    Male               3                  2   \n",
      "308                   No   65  Female               3                  1   \n",
      "312                   No   65    Male               2                  3   \n",
      "316                  Yes   65  Female               3                  3   \n",
      "324                   No   65    Male               2                  3   \n",
      "328                   No   70  Female               3                  2   \n",
      "331                  Yes   70    Male               2                  3   \n",
      "339                   No   70    Male               2                  3   \n",
      "344                   No   80  Female               3                  3   \n",
      "346                   No   85    Male               3                  3   \n",
      "348                   No   90  Female               3                  3   \n",
      "\n",
      "     Outcome Variable  \n",
      "4                   1  \n",
      "7                   1  \n",
      "9                   0  \n",
      "23                  0  \n",
      "35                  1  \n",
      "40                  1  \n",
      "59                  0  \n",
      "69                  0  \n",
      "73                  0  \n",
      "76                  1  \n",
      "82                  1  \n",
      "87                  1  \n",
      "120                 0  \n",
      "123                 1  \n",
      "126                 1  \n",
      "128                 1  \n",
      "142                 1  \n",
      "157                 1  \n",
      "164                 0  \n",
      "175                 0  \n",
      "178                 0  \n",
      "182                 1  \n",
      "193                 1  \n",
      "201                 1  \n",
      "204                 0  \n",
      "209                 0  \n",
      "228                 1  \n",
      "234                 1  \n",
      "241                 0  \n",
      "249                 0  \n",
      "256                 0  \n",
      "259                 1  \n",
      "267                 1  \n",
      "271                 1  \n",
      "276                 0  \n",
      "279                 0  \n",
      "284                 0  \n",
      "290                 1  \n",
      "299                 1  \n",
      "308                 0  \n",
      "312                 1  \n",
      "316                 1  \n",
      "324                 1  \n",
      "328                 0  \n",
      "331                 0  \n",
      "339                 1  \n",
      "344                 1  \n",
      "346                 1  \n",
      "348                 1  \n"
     ]
    }
   ],
   "source": [
    "print(df[df.duplicated()])"
   ]
  },
  {
   "cell_type": "code",
   "execution_count": 12,
   "id": "bde8d2ee",
   "metadata": {},
   "outputs": [
    {
     "name": "stdout",
     "output_type": "stream",
     "text": [
      "               Disease Fever Cough Fatigue Difficulty Breathing  Age  Gender  \\\n",
      "0            Influenza   Yes    No     Yes                  Yes   19  Female   \n",
      "1          Common Cold    No   Yes     Yes                   No   25  Female   \n",
      "2               Eczema    No   Yes     Yes                   No   25  Female   \n",
      "3               Asthma   Yes   Yes      No                  Yes   25    Male   \n",
      "5               Eczema   Yes    No      No                   No   25  Female   \n",
      "..                 ...   ...   ...     ...                  ...  ...     ...   \n",
      "341        Tonsillitis   Yes   Yes     Yes                   No   70  Female   \n",
      "342  Williams Syndrome    No    No     Yes                   No   70  Female   \n",
      "343             Stroke   Yes    No     Yes                   No   80  Female   \n",
      "345             Stroke   Yes    No     Yes                   No   85    Male   \n",
      "347             Stroke   Yes    No     Yes                   No   90  Female   \n",
      "\n",
      "     Blood Pressure  Cholesterol Level  Outcome Variable  \n",
      "0                 1                  2                 1  \n",
      "1                 2                  2                 0  \n",
      "2                 2                  2                 0  \n",
      "3                 2                  2                 1  \n",
      "5                 2                  2                 1  \n",
      "..              ...                ...               ...  \n",
      "341               3                  3                 1  \n",
      "342               2                  2                 1  \n",
      "343               3                  3                 1  \n",
      "345               3                  3                 1  \n",
      "347               3                  3                 1  \n",
      "\n",
      "[300 rows x 10 columns]\n",
      "(300, 10)\n"
     ]
    }
   ],
   "source": [
    "df.drop_duplicates(inplace=True)\n",
    "print(df)\n",
    "print(df.shape)"
   ]
  },
  {
   "cell_type": "markdown",
   "id": "6812ad8d",
   "metadata": {},
   "source": [
    "### 4. Kategorik verilerin dönüşümü"
   ]
  },
  {
   "cell_type": "code",
   "execution_count": 13,
   "id": "2365357e",
   "metadata": {},
   "outputs": [
    {
     "name": "stdout",
     "output_type": "stream",
     "text": [
      "               Disease  Age  Blood Pressure  Cholesterol Level  \\\n",
      "0            Influenza   19               1                  2   \n",
      "1          Common Cold   25               2                  2   \n",
      "2               Eczema   25               2                  2   \n",
      "3               Asthma   25               2                  2   \n",
      "5               Eczema   25               2                  2   \n",
      "..                 ...  ...             ...                ...   \n",
      "341        Tonsillitis   70               3                  3   \n",
      "342  Williams Syndrome   70               2                  2   \n",
      "343             Stroke   80               3                  3   \n",
      "345             Stroke   85               3                  3   \n",
      "347             Stroke   90               3                  3   \n",
      "\n",
      "     Outcome Variable  Fever_No  Fever_Yes  Cough_No  Cough_Yes  Fatigue_No  \\\n",
      "0                   1     False       True      True      False       False   \n",
      "1                   0      True      False     False       True       False   \n",
      "2                   0      True      False     False       True       False   \n",
      "3                   1     False       True     False       True        True   \n",
      "5                   1     False       True      True      False        True   \n",
      "..                ...       ...        ...       ...        ...         ...   \n",
      "341                 1     False       True     False       True       False   \n",
      "342                 1      True      False      True      False       False   \n",
      "343                 1     False       True      True      False       False   \n",
      "345                 1     False       True      True      False       False   \n",
      "347                 1     False       True      True      False       False   \n",
      "\n",
      "     Fatigue_Yes  Difficulty Breathing_No  Difficulty Breathing_Yes  \\\n",
      "0           True                    False                      True   \n",
      "1           True                     True                     False   \n",
      "2           True                     True                     False   \n",
      "3          False                    False                      True   \n",
      "5          False                     True                     False   \n",
      "..           ...                      ...                       ...   \n",
      "341         True                     True                     False   \n",
      "342         True                     True                     False   \n",
      "343         True                     True                     False   \n",
      "345         True                     True                     False   \n",
      "347         True                     True                     False   \n",
      "\n",
      "     Gender_Female  Gender_Male  \n",
      "0             True        False  \n",
      "1             True        False  \n",
      "2             True        False  \n",
      "3            False         True  \n",
      "5             True        False  \n",
      "..             ...          ...  \n",
      "341           True        False  \n",
      "342           True        False  \n",
      "343           True        False  \n",
      "345          False         True  \n",
      "347           True        False  \n",
      "\n",
      "[300 rows x 15 columns]\n"
     ]
    }
   ],
   "source": [
    "df=pd.get_dummies(df,columns=['Fever','Cough','Fatigue','Difficulty Breathing','Gender'])\n",
    "print(df)"
   ]
  },
  {
   "cell_type": "code",
   "execution_count": 14,
   "id": "241e415c",
   "metadata": {},
   "outputs": [
    {
     "name": "stdout",
     "output_type": "stream",
     "text": [
      "Disease                     object\n",
      "Age                          int64\n",
      "Blood Pressure               int64\n",
      "Cholesterol Level            int64\n",
      "Outcome Variable             int64\n",
      "Fever_No                      bool\n",
      "Fever_Yes                     bool\n",
      "Cough_No                      bool\n",
      "Cough_Yes                     bool\n",
      "Fatigue_No                    bool\n",
      "Fatigue_Yes                   bool\n",
      "Difficulty Breathing_No       bool\n",
      "Difficulty Breathing_Yes      bool\n",
      "Gender_Female                 bool\n",
      "Gender_Male                   bool\n",
      "dtype: object\n"
     ]
    }
   ],
   "source": [
    "print(df.dtypes)"
   ]
  },
  {
   "cell_type": "markdown",
   "id": "fddf43b7",
   "metadata": {},
   "source": [
    "### 5. Aşırı verilerin kontrolü"
   ]
  },
  {
   "cell_type": "code",
   "execution_count": 19,
   "id": "110e2a20",
   "metadata": {},
   "outputs": [
    {
     "name": "stdout",
     "output_type": "stream",
     "text": [
      "               Disease  Age  Blood Pressure  Cholesterol Level  \\\n",
      "0            Influenza   19               1                  2   \n",
      "1          Common Cold   25               2                  2   \n",
      "2               Eczema   25               2                  2   \n",
      "3               Asthma   25               2                  2   \n",
      "4               Eczema   25               2                  2   \n",
      "..                 ...  ...             ...                ...   \n",
      "295        Tonsillitis   70               3                  3   \n",
      "296  Williams Syndrome   70               2                  2   \n",
      "297             Stroke   80               3                  3   \n",
      "298             Stroke   85               3                  3   \n",
      "299             Stroke   90               3                  3   \n",
      "\n",
      "     Outcome Variable  Fever_No  Fever_Yes  Cough_No  Cough_Yes  Fatigue_No  \\\n",
      "0                   1     False       True      True      False       False   \n",
      "1                   0      True      False     False       True       False   \n",
      "2                   0      True      False     False       True       False   \n",
      "3                   1     False       True     False       True        True   \n",
      "4                   1     False       True      True      False        True   \n",
      "..                ...       ...        ...       ...        ...         ...   \n",
      "295                 1     False       True     False       True       False   \n",
      "296                 1      True      False      True      False       False   \n",
      "297                 1     False       True      True      False       False   \n",
      "298                 1     False       True      True      False       False   \n",
      "299                 1     False       True      True      False       False   \n",
      "\n",
      "     Fatigue_Yes  Difficulty Breathing_No  Difficulty Breathing_Yes  \\\n",
      "0           True                    False                      True   \n",
      "1           True                     True                     False   \n",
      "2           True                     True                     False   \n",
      "3          False                    False                      True   \n",
      "4          False                     True                     False   \n",
      "..           ...                      ...                       ...   \n",
      "295         True                     True                     False   \n",
      "296         True                     True                     False   \n",
      "297         True                     True                     False   \n",
      "298         True                     True                     False   \n",
      "299         True                     True                     False   \n",
      "\n",
      "     Gender_Female  Gender_Male  \n",
      "0             True        False  \n",
      "1             True        False  \n",
      "2             True        False  \n",
      "3            False         True  \n",
      "4             True        False  \n",
      "..             ...          ...  \n",
      "295           True        False  \n",
      "296           True        False  \n",
      "297           True        False  \n",
      "298          False         True  \n",
      "299           True        False  \n",
      "\n",
      "[300 rows x 15 columns]\n"
     ]
    }
   ],
   "source": [
    "df.reset_index(inplace=True,drop=True)\n",
    "print(df)"
   ]
  },
  {
   "cell_type": "markdown",
   "id": "382c0c4c",
   "metadata": {},
   "source": [
    "## Özellik mühendisliği"
   ]
  },
  {
   "cell_type": "code",
   "execution_count": 36,
   "id": "5fc77d84",
   "metadata": {},
   "outputs": [
    {
     "name": "stdout",
     "output_type": "stream",
     "text": [
      "               Disease  Age  Blood Pressure  Cholesterol Level  Fever_No  \\\n",
      "0            Influenza   19               1                  2     False   \n",
      "1          Common Cold   25               2                  2      True   \n",
      "2               Eczema   25               2                  2      True   \n",
      "3               Asthma   25               2                  2     False   \n",
      "4               Eczema   25               2                  2     False   \n",
      "..                 ...  ...             ...                ...       ...   \n",
      "295        Tonsillitis   70               3                  3     False   \n",
      "296  Williams Syndrome   70               2                  2      True   \n",
      "297             Stroke   80               3                  3     False   \n",
      "298             Stroke   85               3                  3     False   \n",
      "299             Stroke   90               3                  3     False   \n",
      "\n",
      "     Fever_Yes  Cough_No  Cough_Yes  Fatigue_No  Fatigue_Yes  \\\n",
      "0         True      True      False       False         True   \n",
      "1        False     False       True       False         True   \n",
      "2        False     False       True       False         True   \n",
      "3         True     False       True        True        False   \n",
      "4         True      True      False        True        False   \n",
      "..         ...       ...        ...         ...          ...   \n",
      "295       True     False       True       False         True   \n",
      "296      False      True      False       False         True   \n",
      "297       True      True      False       False         True   \n",
      "298       True      True      False       False         True   \n",
      "299       True      True      False       False         True   \n",
      "\n",
      "     Difficulty Breathing_No  Difficulty Breathing_Yes  Gender_Female  \\\n",
      "0                      False                      True           True   \n",
      "1                       True                     False           True   \n",
      "2                       True                     False           True   \n",
      "3                      False                      True          False   \n",
      "4                       True                     False           True   \n",
      "..                       ...                       ...            ...   \n",
      "295                     True                     False           True   \n",
      "296                     True                     False           True   \n",
      "297                     True                     False           True   \n",
      "298                     True                     False          False   \n",
      "299                     True                     False           True   \n",
      "\n",
      "     Gender_Male  Outcome Variable  \n",
      "0          False                 1  \n",
      "1          False                 0  \n",
      "2          False                 0  \n",
      "3           True                 1  \n",
      "4          False                 1  \n",
      "..           ...               ...  \n",
      "295        False                 1  \n",
      "296        False                 1  \n",
      "297        False                 1  \n",
      "298         True                 1  \n",
      "299        False                 1  \n",
      "\n",
      "[300 rows x 15 columns]\n"
     ]
    }
   ],
   "source": [
    "dfNew=pd.concat([df.loc[:,['Disease','Age','Blood Pressure','Cholesterol Level',\n",
    "                           'Fever_No','Fever_Yes','Cough_No','Cough_Yes',\n",
    "                            'Fatigue_No','Fatigue_Yes','Difficulty Breathing_No','Difficulty Breathing_Yes',\n",
    "                            'Gender_Female','Gender_Male','Outcome Variable',]]],axis=1)\n",
    "print(dfNew)"
   ]
  },
  {
   "cell_type": "code",
   "execution_count": 37,
   "id": "33f3f274",
   "metadata": {},
   "outputs": [],
   "source": [
    "dfNew.to_csv(\"Disease_symptom.csv\",sep=\",\")"
   ]
  },
  {
   "cell_type": "code",
   "execution_count": 38,
   "id": "97478415",
   "metadata": {},
   "outputs": [
    {
     "name": "stdout",
     "output_type": "stream",
     "text": [
      "               Disease  Age  Blood Pressure  Cholesterol Level  Fever_No  \\\n",
      "0            Influenza   19               1                  2     False   \n",
      "1          Common Cold   25               2                  2      True   \n",
      "2               Eczema   25               2                  2      True   \n",
      "3               Asthma   25               2                  2     False   \n",
      "4               Eczema   25               2                  2     False   \n",
      "..                 ...  ...             ...                ...       ...   \n",
      "295        Tonsillitis   70               3                  3     False   \n",
      "296  Williams Syndrome   70               2                  2      True   \n",
      "297             Stroke   80               3                  3     False   \n",
      "298             Stroke   85               3                  3     False   \n",
      "299             Stroke   90               3                  3     False   \n",
      "\n",
      "     Fever_Yes  Cough_No  Cough_Yes  Fatigue_No  Fatigue_Yes  \\\n",
      "0         True      True      False       False         True   \n",
      "1        False     False       True       False         True   \n",
      "2        False     False       True       False         True   \n",
      "3         True     False       True        True        False   \n",
      "4         True      True      False        True        False   \n",
      "..         ...       ...        ...         ...          ...   \n",
      "295       True     False       True       False         True   \n",
      "296      False      True      False       False         True   \n",
      "297       True      True      False       False         True   \n",
      "298       True      True      False       False         True   \n",
      "299       True      True      False       False         True   \n",
      "\n",
      "     Difficulty Breathing_No  Difficulty Breathing_Yes  Gender_Female  \\\n",
      "0                      False                      True           True   \n",
      "1                       True                     False           True   \n",
      "2                       True                     False           True   \n",
      "3                      False                      True          False   \n",
      "4                       True                     False           True   \n",
      "..                       ...                       ...            ...   \n",
      "295                     True                     False           True   \n",
      "296                     True                     False           True   \n",
      "297                     True                     False           True   \n",
      "298                     True                     False          False   \n",
      "299                     True                     False           True   \n",
      "\n",
      "     Gender_Male  Outcome Variable  \n",
      "0          False                 1  \n",
      "1          False                 0  \n",
      "2          False                 0  \n",
      "3           True                 1  \n",
      "4          False                 1  \n",
      "..           ...               ...  \n",
      "295        False                 1  \n",
      "296        False                 1  \n",
      "297        False                 1  \n",
      "298         True                 1  \n",
      "299        False                 1  \n",
      "\n",
      "[300 rows x 15 columns]\n"
     ]
    }
   ],
   "source": [
    "print(dfNew)"
   ]
  },
  {
   "cell_type": "markdown",
   "id": "8d2e7b10",
   "metadata": {},
   "source": [
    "# Regression\n",
    "* Linear Regression\n",
    "* Multiple Linear Regression\n",
    "* Polynomial Linear Regression\n",
    "* Decision Tree\n",
    "* Random Forrest"
   ]
  },
  {
   "cell_type": "code",
   "execution_count": 39,
   "id": "97a924a1",
   "metadata": {},
   "outputs": [],
   "source": [
    "import pandas as pd\n",
    "import numpy as np\n",
    "from sklearn.linear_model import LinearRegression\n",
    "from sklearn.tree import DecisionTreeRegressor\n",
    "from sklearn.ensemble import RandomForestRegressor"
   ]
  },
  {
   "cell_type": "code",
   "execution_count": 43,
   "id": "87409852",
   "metadata": {},
   "outputs": [],
   "source": [
    "y=dfNew[\"Outcome Variable\"].values\n",
    "x=dfNew.drop([\"Outcome Variable\",\"Disease\"], axis=1)\n"
   ]
  },
  {
   "cell_type": "code",
   "execution_count": 44,
   "id": "329c6862",
   "metadata": {},
   "outputs": [],
   "source": [
    "mlr=LinearRegression()\n",
    "mlr.fit(x,y)\n",
    "mlr_pred=mlr.predict(x)\n",
    "\n",
    "dt=DecisionTreeRegressor()\n",
    "dt.fit(x,y)\n",
    "dt_pred=dt.predict(x)\n",
    "\n",
    "rf=RandomForestRegressor(n_estimators=100,random_state=42)\n",
    "rf.fit(x,y)\n",
    "rf_pred=rf.predict(x)"
   ]
  },
  {
   "cell_type": "code",
   "execution_count": 64,
   "id": "9bddbc65",
   "metadata": {},
   "outputs": [
    {
     "name": "stdout",
     "output_type": "stream",
     "text": [
      "Multiple Linear Regression:\n",
      "R2: 0.24143887143908205\n",
      "MAE: 0.38053731585986517\n",
      "MAPE: 858162211482863.8\n",
      "MSE: 0.189227287748013\n"
     ]
    }
   ],
   "source": [
    "from sklearn.metrics import r2_score,mean_absolute_error,mean_squared_error,mean_absolute_percentage_error\n",
    "print(\"Multiple Linear Regression:\")\n",
    "print(\"R2:\",r2_score(y,mlr_pred))\n",
    "print(\"MAE:\",mean_absolute_error(y,mlr_pred))\n",
    "print(\"MAPE:\",mean_absolute_percentage_error(y,mlr_pred))\n",
    "print(\"MSE:\",mean_squared_error(y,mlr_pred))"
   ]
  },
  {
   "cell_type": "code",
   "execution_count": 65,
   "id": "d5d012d4",
   "metadata": {},
   "outputs": [
    {
     "name": "stdout",
     "output_type": "stream",
     "text": [
      "Decision Tree Regression:\n",
      "R2: 0.9498908734577525\n",
      "MAE: 0.025\n",
      "MAPE: 56294995342131.21\n",
      "MSE: 0.0125\n"
     ]
    }
   ],
   "source": [
    "print(\"Decision Tree Regression:\")\n",
    "print(\"R2:\",r2_score(y,dt_pred))\n",
    "print(\"MAE:\",mean_absolute_error(y,dt_pred))\n",
    "print(\"MAPE:\",mean_absolute_percentage_error(y,dt_pred))\n",
    "print(\"MSE:\",mean_squared_error(y,dt_pred))"
   ]
  },
  {
   "cell_type": "code",
   "execution_count": 66,
   "id": "bbb36037",
   "metadata": {},
   "outputs": [
    {
     "name": "stdout",
     "output_type": "stream",
     "text": [
      " Random Forest Regression:\n",
      "R2: 0.8673865696001501\n",
      "MAE: 0.12661759259259261\n",
      "MAPE: 282780067459815.25\n",
      "MSE: 0.033081156954522545\n"
     ]
    }
   ],
   "source": [
    "print(\" Random Forest Regression:\")\n",
    "print(\"R2:\",r2_score(y,rf_pred))\n",
    "print(\"MAE:\",mean_absolute_error(y,rf_pred))\n",
    "print(\"MAPE:\",mean_absolute_percentage_error(y,rf_pred))\n",
    "print(\"MSE:\",mean_squared_error(y,rf_pred))"
   ]
  },
  {
   "cell_type": "markdown",
   "id": "e7a5374f",
   "metadata": {},
   "source": [
    "#### polynomial regression:"
   ]
  },
  {
   "cell_type": "code",
   "execution_count": 67,
   "id": "31fa6b72",
   "metadata": {},
   "outputs": [
    {
     "data": {
      "text/html": [
       "<style>#sk-container-id-1 {color: black;}#sk-container-id-1 pre{padding: 0;}#sk-container-id-1 div.sk-toggleable {background-color: white;}#sk-container-id-1 label.sk-toggleable__label {cursor: pointer;display: block;width: 100%;margin-bottom: 0;padding: 0.3em;box-sizing: border-box;text-align: center;}#sk-container-id-1 label.sk-toggleable__label-arrow:before {content: \"▸\";float: left;margin-right: 0.25em;color: #696969;}#sk-container-id-1 label.sk-toggleable__label-arrow:hover:before {color: black;}#sk-container-id-1 div.sk-estimator:hover label.sk-toggleable__label-arrow:before {color: black;}#sk-container-id-1 div.sk-toggleable__content {max-height: 0;max-width: 0;overflow: hidden;text-align: left;background-color: #f0f8ff;}#sk-container-id-1 div.sk-toggleable__content pre {margin: 0.2em;color: black;border-radius: 0.25em;background-color: #f0f8ff;}#sk-container-id-1 input.sk-toggleable__control:checked~div.sk-toggleable__content {max-height: 200px;max-width: 100%;overflow: auto;}#sk-container-id-1 input.sk-toggleable__control:checked~label.sk-toggleable__label-arrow:before {content: \"▾\";}#sk-container-id-1 div.sk-estimator input.sk-toggleable__control:checked~label.sk-toggleable__label {background-color: #d4ebff;}#sk-container-id-1 div.sk-label input.sk-toggleable__control:checked~label.sk-toggleable__label {background-color: #d4ebff;}#sk-container-id-1 input.sk-hidden--visually {border: 0;clip: rect(1px 1px 1px 1px);clip: rect(1px, 1px, 1px, 1px);height: 1px;margin: -1px;overflow: hidden;padding: 0;position: absolute;width: 1px;}#sk-container-id-1 div.sk-estimator {font-family: monospace;background-color: #f0f8ff;border: 1px dotted black;border-radius: 0.25em;box-sizing: border-box;margin-bottom: 0.5em;}#sk-container-id-1 div.sk-estimator:hover {background-color: #d4ebff;}#sk-container-id-1 div.sk-parallel-item::after {content: \"\";width: 100%;border-bottom: 1px solid gray;flex-grow: 1;}#sk-container-id-1 div.sk-label:hover label.sk-toggleable__label {background-color: #d4ebff;}#sk-container-id-1 div.sk-serial::before {content: \"\";position: absolute;border-left: 1px solid gray;box-sizing: border-box;top: 0;bottom: 0;left: 50%;z-index: 0;}#sk-container-id-1 div.sk-serial {display: flex;flex-direction: column;align-items: center;background-color: white;padding-right: 0.2em;padding-left: 0.2em;position: relative;}#sk-container-id-1 div.sk-item {position: relative;z-index: 1;}#sk-container-id-1 div.sk-parallel {display: flex;align-items: stretch;justify-content: center;background-color: white;position: relative;}#sk-container-id-1 div.sk-item::before, #sk-container-id-1 div.sk-parallel-item::before {content: \"\";position: absolute;border-left: 1px solid gray;box-sizing: border-box;top: 0;bottom: 0;left: 50%;z-index: -1;}#sk-container-id-1 div.sk-parallel-item {display: flex;flex-direction: column;z-index: 1;position: relative;background-color: white;}#sk-container-id-1 div.sk-parallel-item:first-child::after {align-self: flex-end;width: 50%;}#sk-container-id-1 div.sk-parallel-item:last-child::after {align-self: flex-start;width: 50%;}#sk-container-id-1 div.sk-parallel-item:only-child::after {width: 0;}#sk-container-id-1 div.sk-dashed-wrapped {border: 1px dashed gray;margin: 0 0.4em 0.5em 0.4em;box-sizing: border-box;padding-bottom: 0.4em;background-color: white;}#sk-container-id-1 div.sk-label label {font-family: monospace;font-weight: bold;display: inline-block;line-height: 1.2em;}#sk-container-id-1 div.sk-label-container {text-align: center;}#sk-container-id-1 div.sk-container {/* jupyter's `normalize.less` sets `[hidden] { display: none; }` but bootstrap.min.css set `[hidden] { display: none !important; }` so we also need the `!important` here to be able to override the default hidden behavior on the sphinx rendered scikit-learn.org. See: https://github.com/scikit-learn/scikit-learn/issues/21755 */display: inline-block !important;position: relative;}#sk-container-id-1 div.sk-text-repr-fallback {display: none;}</style><div id=\"sk-container-id-1\" class=\"sk-top-container\"><div class=\"sk-text-repr-fallback\"><pre>LinearRegression()</pre><b>In a Jupyter environment, please rerun this cell to show the HTML representation or trust the notebook. <br />On GitHub, the HTML representation is unable to render, please try loading this page with nbviewer.org.</b></div><div class=\"sk-container\" hidden><div class=\"sk-item\"><div class=\"sk-estimator sk-toggleable\"><input class=\"sk-toggleable__control sk-hidden--visually\" id=\"sk-estimator-id-1\" type=\"checkbox\" checked><label for=\"sk-estimator-id-1\" class=\"sk-toggleable__label sk-toggleable__label-arrow\">LinearRegression</label><div class=\"sk-toggleable__content\"><pre>LinearRegression()</pre></div></div></div></div></div>"
      ],
      "text/plain": [
       "LinearRegression()"
      ]
     },
     "execution_count": 67,
     "metadata": {},
     "output_type": "execute_result"
    }
   ],
   "source": [
    "from sklearn.preprocessing import PolynomialFeatures\n",
    "plr=PolynomialFeatures(degree=3)\n",
    "\n",
    "y=dfNew[\"Outcome Variable\"].values\n",
    "x=dfNew.drop([\"Outcome Variable\",\"Disease\"], axis=1)\n",
    "\n",
    "x_pol=plr.fit_transform(x)\n",
    "lr_pol=LinearRegression()\n",
    "lr_pol.fit(x_pol,y)"
   ]
  },
  {
   "cell_type": "code",
   "execution_count": 68,
   "id": "ce7f0e93",
   "metadata": {},
   "outputs": [
    {
     "name": "stdout",
     "output_type": "stream",
     "text": [
      "pol r2: 0.6414376819000018\n",
      "pol mae: 0.2262967871129513\n",
      "pol mse: 0.0894453622629229\n",
      "pol rmse: 0.2990741751855598\n",
      "pol mape: 497171102660471.56\n"
     ]
    }
   ],
   "source": [
    "pol_pred=lr_pol.predict(x_pol)\n",
    "\n",
    "print(\"pol r2:\",r2_score(y,pol_pred))\n",
    "print(\"pol mae:\",mean_absolute_error(y,pol_pred))\n",
    "print(\"pol mse:\",mean_squared_error(y,pol_pred))\n",
    "print(\"pol rmse:\",(mean_squared_error(y,pol_pred))**0.5)\n",
    "print(\"pol mape:\",mean_absolute_percentage_error(y,pol_pred))"
   ]
  },
  {
   "cell_type": "markdown",
   "id": "3bbb29d3",
   "metadata": {},
   "source": [
    "## Train , Test"
   ]
  },
  {
   "cell_type": "code",
   "execution_count": 69,
   "id": "c90ba387",
   "metadata": {},
   "outputs": [],
   "source": [
    "y=dfNew[\"Outcome Variable\"].values\n",
    "x=dfNew.drop([\"Outcome Variable\",\"Disease\"], axis=1)"
   ]
  },
  {
   "cell_type": "code",
   "execution_count": 70,
   "id": "db1c8d89",
   "metadata": {},
   "outputs": [],
   "source": [
    "from sklearn.model_selection import train_test_split\n",
    "x_train,x_test,y_train,y_test=train_test_split(x,y,test_size=0.1,random_state=42)\n",
    "\n",
    "\n",
    "mlr=LinearRegression()\n",
    "mlr.fit(x_train,y_train)\n",
    "mlr_pred=mlr.predict(x_test)\n",
    "\n",
    "dt=DecisionTreeRegressor()\n",
    "dt.fit(x_train,y_train)\n",
    "dt_pred=dt.predict(x_test)\n",
    "\n",
    "rf=RandomForestRegressor(n_estimators=100,random_state=42)\n",
    "rf.fit(x_train,y_train)\n",
    "rf_pred=rf.predict(x_test)"
   ]
  },
  {
   "cell_type": "code",
   "execution_count": 73,
   "id": "88633119",
   "metadata": {},
   "outputs": [],
   "source": [
    "from sklearn.metrics import r2_score,mean_absolute_error,mean_squared_error,mean_absolute_percentage_error"
   ]
  },
  {
   "cell_type": "code",
   "execution_count": 74,
   "id": "45668f19",
   "metadata": {},
   "outputs": [
    {
     "name": "stdout",
     "output_type": "stream",
     "text": [
      "Multiple Linear Regression:\n",
      "R2: 0.04529473255876093\n",
      "MAE: 0.37834888472486405\n",
      "MAPE: 817164242171143.5\n",
      "MSE: 0.23761553322981951\n"
     ]
    }
   ],
   "source": [
    "print(\"Multiple Linear Regression:\")\n",
    "print(\"R2:\",r2_score(y_test,mlr_pred))\n",
    "print(\"MAE:\",mean_absolute_error(y_test,mlr_pred))\n",
    "print(\"MAPE:\",mean_absolute_percentage_error(y_test,mlr_pred))\n",
    "print(\"MSE:\",mean_squared_error(y_test,mlr_pred))"
   ]
  },
  {
   "cell_type": "code",
   "execution_count": 75,
   "id": "eb265e83",
   "metadata": {},
   "outputs": [
    {
     "name": "stdout",
     "output_type": "stream",
     "text": [
      "Decision Tree Regression:\n",
      "R2: -0.607142857142857\n",
      "MAE: 0.4\n",
      "MAPE: 600479950316066.4\n",
      "MSE: 0.4\n"
     ]
    }
   ],
   "source": [
    "print(\"Decision Tree Regression:\")\n",
    "print(\"R2:\",r2_score(y_test,dt_pred))\n",
    "print(\"MAE:\",mean_absolute_error(y_test,dt_pred))\n",
    "print(\"MAPE:\",mean_absolute_percentage_error(y_test,dt_pred))\n",
    "print(\"MSE:\",mean_squared_error(y_test,dt_pred))"
   ]
  },
  {
   "cell_type": "code",
   "execution_count": 76,
   "id": "ca929606",
   "metadata": {},
   "outputs": [
    {
     "name": "stdout",
     "output_type": "stream",
     "text": [
      " Random Forest Regression:\n",
      "R2: 0.04205757068452387\n",
      "MAE: 0.3815833333333333\n",
      "MAPE: 906849824966909.2\n",
      "MSE: 0.23842122685185185\n"
     ]
    }
   ],
   "source": [
    "print(\" Random Forest Regression:\")\n",
    "print(\"R2:\",r2_score(y_test,rf_pred))\n",
    "print(\"MAE:\",mean_absolute_error(y_test,rf_pred))\n",
    "print(\"MAPE:\",mean_absolute_percentage_error(y_test,rf_pred))\n",
    "print(\"MSE:\",mean_squared_error(y_test,rf_pred))"
   ]
  },
  {
   "cell_type": "code",
   "execution_count": null,
   "id": "c8c894c9",
   "metadata": {},
   "outputs": [],
   "source": []
  }
 ],
 "metadata": {
  "kernelspec": {
   "display_name": "Python 3 (ipykernel)",
   "language": "python",
   "name": "python3"
  },
  "language_info": {
   "codemirror_mode": {
    "name": "ipython",
    "version": 3
   },
   "file_extension": ".py",
   "mimetype": "text/x-python",
   "name": "python",
   "nbconvert_exporter": "python",
   "pygments_lexer": "ipython3",
   "version": "3.11.5"
  }
 },
 "nbformat": 4,
 "nbformat_minor": 5
}
